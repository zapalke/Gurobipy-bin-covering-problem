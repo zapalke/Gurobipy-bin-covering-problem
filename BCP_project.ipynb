{
 "cells": [
  {
   "cell_type": "markdown",
   "metadata": {},
   "source": [
    "<h3>Bin covering problem</h3>\n",
    "The goal is to fill multiple bins with items of the highest value so as not to exceed the size of the bin."
   ]
  },
  {
   "cell_type": "code",
   "execution_count": 106,
   "metadata": {},
   "outputs": [],
   "source": [
    "from gurobipy import *\n",
    "import numpy as np\n",
    "import matplotlib.pyplot as plt"
   ]
  },
  {
   "cell_type": "markdown",
   "metadata": {},
   "source": [
    "Setting parameters"
   ]
  },
  {
   "cell_type": "code",
   "execution_count": 107,
   "metadata": {},
   "outputs": [
    {
     "name": "stdout",
     "output_type": "stream",
     "text": [
      "Summed size: 6594\n",
      "Summed value: 1049\n"
     ]
    }
   ],
   "source": [
    "Items_size = {}\n",
    "Items_value = {}\n",
    "bins = [100,50,40,120]\n",
    "n = 100\n",
    "for i in range(n):\n",
    "    item = f'P{i}'\n",
    "    Items_size[item] = np.random.randint(30,100)\n",
    "    Items_value[item] = np.random.randint(2,20)\n",
    "print(f'Summed size: {np.sum(list(Items_size.values()))}')\n",
    "print(f'Summed value: {np.sum(list(Items_value.values()))}')"
   ]
  },
  {
   "cell_type": "code",
   "execution_count": 108,
   "metadata": {},
   "outputs": [],
   "source": [
    "m = Model('BCP')"
   ]
  },
  {
   "cell_type": "markdown",
   "metadata": {},
   "source": [
    "Adding a decision variable and defining temporary parameters (for better visibility)"
   ]
  },
  {
   "cell_type": "code",
   "execution_count": 109,
   "metadata": {},
   "outputs": [],
   "source": [
    "x = m.addMVar((len(bins),len(Items_size.keys())), vtype=GRB.BINARY,name='items')\n",
    "y_values = np.array(list(Items_value.values()))\n",
    "y_size = np.array(list(Items_size.values()))"
   ]
  },
  {
   "cell_type": "markdown",
   "metadata": {},
   "source": [
    "Setting objective.<br>\n",
    "The objective is maximising value of items used."
   ]
  },
  {
   "cell_type": "code",
   "execution_count": 110,
   "metadata": {},
   "outputs": [],
   "source": [
    "m.setObjective(sum(x[i,:]@y_values for i in range(len(bins))),GRB.MAXIMIZE)"
   ]
  },
  {
   "cell_type": "markdown",
   "metadata": {},
   "source": [
    "Setting constraints. <br>\n",
    "First constraints limits use of items due to the volume of bin. <br>\n",
    "Second one forbids to use one item more then once."
   ]
  },
  {
   "cell_type": "code",
   "execution_count": 111,
   "metadata": {},
   "outputs": [
    {
     "data": {
      "text/plain": [
       "{0: <gurobi.Constr *Awaiting Model Update*>,\n",
       " 1: <gurobi.Constr *Awaiting Model Update*>,\n",
       " 2: <gurobi.Constr *Awaiting Model Update*>,\n",
       " 3: <gurobi.Constr *Awaiting Model Update*>,\n",
       " 4: <gurobi.Constr *Awaiting Model Update*>,\n",
       " 5: <gurobi.Constr *Awaiting Model Update*>,\n",
       " 6: <gurobi.Constr *Awaiting Model Update*>,\n",
       " 7: <gurobi.Constr *Awaiting Model Update*>,\n",
       " 8: <gurobi.Constr *Awaiting Model Update*>,\n",
       " 9: <gurobi.Constr *Awaiting Model Update*>,\n",
       " 10: <gurobi.Constr *Awaiting Model Update*>,\n",
       " 11: <gurobi.Constr *Awaiting Model Update*>,\n",
       " 12: <gurobi.Constr *Awaiting Model Update*>,\n",
       " 13: <gurobi.Constr *Awaiting Model Update*>,\n",
       " 14: <gurobi.Constr *Awaiting Model Update*>,\n",
       " 15: <gurobi.Constr *Awaiting Model Update*>,\n",
       " 16: <gurobi.Constr *Awaiting Model Update*>,\n",
       " 17: <gurobi.Constr *Awaiting Model Update*>,\n",
       " 18: <gurobi.Constr *Awaiting Model Update*>,\n",
       " 19: <gurobi.Constr *Awaiting Model Update*>,\n",
       " 20: <gurobi.Constr *Awaiting Model Update*>,\n",
       " 21: <gurobi.Constr *Awaiting Model Update*>,\n",
       " 22: <gurobi.Constr *Awaiting Model Update*>,\n",
       " 23: <gurobi.Constr *Awaiting Model Update*>,\n",
       " 24: <gurobi.Constr *Awaiting Model Update*>,\n",
       " 25: <gurobi.Constr *Awaiting Model Update*>,\n",
       " 26: <gurobi.Constr *Awaiting Model Update*>,\n",
       " 27: <gurobi.Constr *Awaiting Model Update*>,\n",
       " 28: <gurobi.Constr *Awaiting Model Update*>,\n",
       " 29: <gurobi.Constr *Awaiting Model Update*>,\n",
       " 30: <gurobi.Constr *Awaiting Model Update*>,\n",
       " 31: <gurobi.Constr *Awaiting Model Update*>,\n",
       " 32: <gurobi.Constr *Awaiting Model Update*>,\n",
       " 33: <gurobi.Constr *Awaiting Model Update*>,\n",
       " 34: <gurobi.Constr *Awaiting Model Update*>,\n",
       " 35: <gurobi.Constr *Awaiting Model Update*>,\n",
       " 36: <gurobi.Constr *Awaiting Model Update*>,\n",
       " 37: <gurobi.Constr *Awaiting Model Update*>,\n",
       " 38: <gurobi.Constr *Awaiting Model Update*>,\n",
       " 39: <gurobi.Constr *Awaiting Model Update*>,\n",
       " 40: <gurobi.Constr *Awaiting Model Update*>,\n",
       " 41: <gurobi.Constr *Awaiting Model Update*>,\n",
       " 42: <gurobi.Constr *Awaiting Model Update*>,\n",
       " 43: <gurobi.Constr *Awaiting Model Update*>,\n",
       " 44: <gurobi.Constr *Awaiting Model Update*>,\n",
       " 45: <gurobi.Constr *Awaiting Model Update*>,\n",
       " 46: <gurobi.Constr *Awaiting Model Update*>,\n",
       " 47: <gurobi.Constr *Awaiting Model Update*>,\n",
       " 48: <gurobi.Constr *Awaiting Model Update*>,\n",
       " 49: <gurobi.Constr *Awaiting Model Update*>,\n",
       " 50: <gurobi.Constr *Awaiting Model Update*>,\n",
       " 51: <gurobi.Constr *Awaiting Model Update*>,\n",
       " 52: <gurobi.Constr *Awaiting Model Update*>,\n",
       " 53: <gurobi.Constr *Awaiting Model Update*>,\n",
       " 54: <gurobi.Constr *Awaiting Model Update*>,\n",
       " 55: <gurobi.Constr *Awaiting Model Update*>,\n",
       " 56: <gurobi.Constr *Awaiting Model Update*>,\n",
       " 57: <gurobi.Constr *Awaiting Model Update*>,\n",
       " 58: <gurobi.Constr *Awaiting Model Update*>,\n",
       " 59: <gurobi.Constr *Awaiting Model Update*>,\n",
       " 60: <gurobi.Constr *Awaiting Model Update*>,\n",
       " 61: <gurobi.Constr *Awaiting Model Update*>,\n",
       " 62: <gurobi.Constr *Awaiting Model Update*>,\n",
       " 63: <gurobi.Constr *Awaiting Model Update*>,\n",
       " 64: <gurobi.Constr *Awaiting Model Update*>,\n",
       " 65: <gurobi.Constr *Awaiting Model Update*>,\n",
       " 66: <gurobi.Constr *Awaiting Model Update*>,\n",
       " 67: <gurobi.Constr *Awaiting Model Update*>,\n",
       " 68: <gurobi.Constr *Awaiting Model Update*>,\n",
       " 69: <gurobi.Constr *Awaiting Model Update*>,\n",
       " 70: <gurobi.Constr *Awaiting Model Update*>,\n",
       " 71: <gurobi.Constr *Awaiting Model Update*>,\n",
       " 72: <gurobi.Constr *Awaiting Model Update*>,\n",
       " 73: <gurobi.Constr *Awaiting Model Update*>,\n",
       " 74: <gurobi.Constr *Awaiting Model Update*>,\n",
       " 75: <gurobi.Constr *Awaiting Model Update*>,\n",
       " 76: <gurobi.Constr *Awaiting Model Update*>,\n",
       " 77: <gurobi.Constr *Awaiting Model Update*>,\n",
       " 78: <gurobi.Constr *Awaiting Model Update*>,\n",
       " 79: <gurobi.Constr *Awaiting Model Update*>,\n",
       " 80: <gurobi.Constr *Awaiting Model Update*>,\n",
       " 81: <gurobi.Constr *Awaiting Model Update*>,\n",
       " 82: <gurobi.Constr *Awaiting Model Update*>,\n",
       " 83: <gurobi.Constr *Awaiting Model Update*>,\n",
       " 84: <gurobi.Constr *Awaiting Model Update*>,\n",
       " 85: <gurobi.Constr *Awaiting Model Update*>,\n",
       " 86: <gurobi.Constr *Awaiting Model Update*>,\n",
       " 87: <gurobi.Constr *Awaiting Model Update*>,\n",
       " 88: <gurobi.Constr *Awaiting Model Update*>,\n",
       " 89: <gurobi.Constr *Awaiting Model Update*>,\n",
       " 90: <gurobi.Constr *Awaiting Model Update*>,\n",
       " 91: <gurobi.Constr *Awaiting Model Update*>,\n",
       " 92: <gurobi.Constr *Awaiting Model Update*>,\n",
       " 93: <gurobi.Constr *Awaiting Model Update*>,\n",
       " 94: <gurobi.Constr *Awaiting Model Update*>,\n",
       " 95: <gurobi.Constr *Awaiting Model Update*>,\n",
       " 96: <gurobi.Constr *Awaiting Model Update*>,\n",
       " 97: <gurobi.Constr *Awaiting Model Update*>,\n",
       " 98: <gurobi.Constr *Awaiting Model Update*>,\n",
       " 99: <gurobi.Constr *Awaiting Model Update*>}"
      ]
     },
     "execution_count": 111,
     "metadata": {},
     "output_type": "execute_result"
    }
   ],
   "source": [
    "m.addConstrs((x[i,:]@y_size) <= np.array(bins[i]) for i in range(len(bins)))\n",
    "m.addConstrs((sum(x[:,i]) <= 1 for i in range(n)))"
   ]
  },
  {
   "cell_type": "code",
   "execution_count": 112,
   "metadata": {},
   "outputs": [
    {
     "name": "stdout",
     "output_type": "stream",
     "text": [
      "Gurobi Optimizer version 9.5.1 build v9.5.1rc2 (win64)\n",
      "Thread count: 4 physical cores, 8 logical processors, using up to 8 threads\n",
      "Optimize a model with 104 rows, 400 columns and 800 nonzeros\n",
      "Model fingerprint: 0x4012e2d0\n",
      "Variable types: 0 continuous, 400 integer (400 binary)\n",
      "Coefficient statistics:\n",
      "  Matrix range     [1e+00, 1e+02]\n",
      "  Objective range  [2e+00, 2e+01]\n",
      "  Bounds range     [1e+00, 1e+00]\n",
      "  RHS range        [1e+00, 1e+02]\n",
      "Found heuristic solution: objective 85.0000000\n",
      "Presolve removed 0 rows and 158 columns\n",
      "Presolve time: 0.00s\n",
      "Presolved: 104 rows, 242 columns, 484 nonzeros\n",
      "Variable types: 0 continuous, 242 integer (242 binary)\n",
      "Found heuristic solution: objective 94.0000000\n",
      "\n",
      "Root relaxation: objective 1.474286e+02, 16 iterations, 0.00 seconds (0.00 work units)\n",
      "\n",
      "    Nodes    |    Current Node    |     Objective Bounds      |     Work\n",
      " Expl Unexpl |  Obj  Depth IntInf | Incumbent    BestBd   Gap | It/Node Time\n",
      "\n",
      "     0     0  147.42857    0    5   94.00000  147.42857  56.8%     -    0s\n",
      "H    0     0                     139.0000000  147.42857  6.06%     -    0s\n",
      "H    0     0                     141.0000000  147.42857  4.56%     -    0s\n",
      "     0     0  145.87500    0    6  141.00000  145.87500  3.46%     -    0s\n",
      "     0     0  145.87500    0    7  141.00000  145.87500  3.46%     -    0s\n",
      "     0     0  144.23333    0    9  141.00000  144.23333  2.29%     -    0s\n",
      "H    0     0                     142.0000000  144.23333  1.57%     -    0s\n",
      "     0     0  144.07692    0   10  142.00000  144.07692  1.46%     -    0s\n",
      "     0     0     cutoff    0       142.00000  142.00000  0.00%     -    0s\n",
      "\n",
      "Cutting planes:\n",
      "  Gomory: 1\n",
      "  Cover: 2\n",
      "  MIR: 2\n",
      "  StrongCG: 1\n",
      "\n",
      "Explored 1 nodes (65 simplex iterations) in 0.04 seconds (0.00 work units)\n",
      "Thread count was 8 (of 8 available processors)\n",
      "\n",
      "Solution count 6: 142 141 139 ... 75\n",
      "\n",
      "Optimal solution found (tolerance 1.00e-04)\n",
      "Best objective 1.420000000000e+02, best bound 1.420000000000e+02, gap 0.0000%\n"
     ]
    }
   ],
   "source": [
    "m.optimize()"
   ]
  },
  {
   "cell_type": "code",
   "execution_count": 113,
   "metadata": {},
   "outputs": [
    {
     "data": {
      "text/plain": [
       "array([[ 0.,  0.,  0.,  0.,  0.,  0., -0.,  0.,  0.,  0.,  0.,  0.,  0.,\n",
       "         0.,  0.,  0.,  0.,  0.,  0.,  0.,  0.,  0.,  0., -0.,  0.,  0.,\n",
       "         0.,  0.,  0.,  0.,  0.,  0.,  0.,  0.,  0.,  0.,  0.,  0.,  0.,\n",
       "         0.,  0.,  0.,  0.,  0.,  0.,  0.,  0.,  1., -0.,  1.,  0.,  0.,\n",
       "         0.,  0.,  0.,  0., -0., -0.,  0.,  0.,  0.,  0.,  0.,  0., -0.,\n",
       "         0.,  0.,  0.,  0.,  0.,  0.,  0.,  0.,  0.,  0.,  0.,  0.,  0.,\n",
       "         0.,  0.,  0.,  0.,  0.,  0.,  0.,  0.,  1.,  0.,  0.,  0.,  0.,\n",
       "         0.,  0.,  0.,  0.,  0.,  0.,  0.,  0.,  0.],\n",
       "       [ 0.,  0.,  0.,  0.,  0.,  0.,  0.,  0.,  0.,  0.,  0.,  0.,  0.,\n",
       "         0.,  0.,  0.,  0.,  0.,  0.,  0.,  0.,  0.,  0., -0.,  0.,  0.,\n",
       "         0.,  0.,  0.,  0.,  0.,  0.,  0.,  0.,  0.,  0.,  0.,  0.,  0.,\n",
       "         0.,  0.,  0.,  0.,  0.,  0.,  0.,  0., -0.,  0., -0.,  0.,  0.,\n",
       "         0.,  0.,  0.,  0.,  0., -0.,  0.,  0.,  0.,  0.,  0.,  0., -0.,\n",
       "         0.,  0.,  0.,  0.,  0.,  0.,  0.,  0.,  0.,  0.,  1.,  0., -0.,\n",
       "         0.,  0.,  0.,  0.,  0.,  0.,  0., -0., -0.,  0.,  0.,  0.,  0.,\n",
       "         0.,  0.,  0.,  0.,  0.,  0.,  0.,  0.,  0.],\n",
       "       [ 0.,  0.,  0.,  0.,  0.,  0.,  0.,  0.,  0.,  0.,  0.,  0.,  0.,\n",
       "         0.,  0.,  0.,  0.,  0.,  0.,  0.,  0.,  0.,  0., -0.,  0.,  0.,\n",
       "         0.,  0.,  0.,  0.,  0.,  0.,  0.,  0.,  0.,  0.,  0.,  0.,  0.,\n",
       "         0.,  0.,  0.,  0.,  0.,  0.,  0.,  0., -0., -0., -0.,  0.,  0.,\n",
       "         0.,  0.,  0.,  0.,  0.,  1.,  0.,  0.,  0.,  0.,  0.,  0., -0.,\n",
       "         0.,  0.,  0.,  0.,  0.,  0.,  0.,  0.,  0.,  0.,  0.,  0.,  0.,\n",
       "         0.,  0.,  0.,  0.,  0.,  0.,  0.,  0., -0.,  0.,  0.,  0.,  0.,\n",
       "         0.,  0.,  0.,  0.,  0.,  0.,  0.,  0.,  0.],\n",
       "       [ 0.,  0.,  0.,  0.,  0.,  0.,  1.,  0., -0.,  0.,  0.,  0.,  0.,\n",
       "         0.,  0.,  0.,  0.,  0.,  0.,  0.,  0., -0.,  0.,  1.,  0.,  0.,\n",
       "         0.,  0.,  0., -0.,  0.,  0.,  0.,  0.,  0.,  0.,  0.,  0.,  0.,\n",
       "         0.,  0.,  0.,  0.,  0.,  0.,  0.,  0., -0., -0., -0.,  0.,  0.,\n",
       "         0.,  0.,  0.,  0., -0., -0.,  0.,  0.,  0.,  0.,  0.,  0.,  1.,\n",
       "         0.,  0.,  0.,  0.,  0.,  0.,  0.,  0.,  0.,  0., -0.,  0., -0.,\n",
       "         0.,  0.,  0.,  0.,  0.,  0.,  0., -0., -0.,  0.,  0.,  0.,  0.,\n",
       "         0.,  0.,  0.,  0.,  0., -0.,  0.,  0.,  0.]])"
      ]
     },
     "execution_count": 113,
     "metadata": {},
     "output_type": "execute_result"
    }
   ],
   "source": [
    "x.X"
   ]
  },
  {
   "cell_type": "markdown",
   "metadata": {},
   "source": [
    "Printing solution"
   ]
  },
  {
   "cell_type": "code",
   "execution_count": 114,
   "metadata": {},
   "outputs": [
    {
     "name": "stdout",
     "output_type": "stream",
     "text": [
      "Bin 0 - Value: 50 - Size: 100/100\n",
      "['P47', 'P49', 'P86']\n",
      "Bin 1 - Value: 18 - Size: 44/50\n",
      "['P75']\n",
      "Bin 2 - Value: 18 - Size: 40/40\n",
      "['P57']\n",
      "Bin 3 - Value: 56 - Size: 113/120\n",
      "['P6', 'P23', 'P64']\n",
      "---SUMMARY---\n",
      "Summed value : 142\n",
      "Summed size: 297\n",
      "Used items:\n",
      "['P23', 'P47', 'P49', 'P57', 'P6', 'P64', 'P75', 'P86']\n"
     ]
    }
   ],
   "source": [
    "sum_value = 0\n",
    "sum_size = 0\n",
    "sum_ans = []\n",
    "for i in range(len(bins)):\n",
    "    temp_size = 0\n",
    "    temp_value = 0\n",
    "    ans = []\n",
    "    for j in range(n):\n",
    "        if x[i,j].X > 0:\n",
    "            ans.append(list(Items_size.keys())[j])\n",
    "    for l in ans:\n",
    "        temp_size += Items_size[l]\n",
    "        temp_value += Items_value[l]\n",
    "    sum_size += temp_size\n",
    "    sum_value += temp_value\n",
    "    sum_ans += ans\n",
    "    print(f'Bin {i} - Value: {temp_value} - Size: {temp_size}/{bins[i]}')\n",
    "    print(ans)\n",
    "                \n",
    "print('---SUMMARY---')\n",
    "print(f'Summed value : {sum_value}\\nSummed size: {sum_size}')\n",
    "print(f'Used items:\\n{sorted(sum_ans)}')"
   ]
  },
  {
   "cell_type": "markdown",
   "metadata": {},
   "source": [
    "<h3>Tabu search</h3>"
   ]
  },
  {
   "cell_type": "code",
   "execution_count": 115,
   "metadata": {},
   "outputs": [],
   "source": [
    "def chceck_constr(x):\n",
    "    if multi_items_constr(x) == False:\n",
    "        return False\n",
    "    if sum_constr(x) == False:\n",
    "        return False\n",
    "    return True"
   ]
  },
  {
   "cell_type": "markdown",
   "metadata": {},
   "source": [
    "Checking if we use one item multiple times."
   ]
  },
  {
   "cell_type": "code",
   "execution_count": 116,
   "metadata": {},
   "outputs": [],
   "source": [
    "def multi_items_constr(x):\n",
    "    for i in range(len(y_size)):\n",
    "        if sum(x[:,i]) > 1:\n",
    "            print(f'One item is used multiple times.\\n{x[:,i]} - column {i}')\n",
    "            return False\n",
    "    print('Passed test 1')\n",
    "    return True"
   ]
  },
  {
   "cell_type": "markdown",
   "metadata": {},
   "source": [
    "Checking if sum is larger than bin size."
   ]
  },
  {
   "cell_type": "code",
   "execution_count": 117,
   "metadata": {},
   "outputs": [],
   "source": [
    "def sum_constr(x):\n",
    "    print('Test 2')\n",
    "    for i in range(len(bins)):\n",
    "        Sum = 0\n",
    "        for j in range(len(y_size)):\n",
    "            Sum += x[i,j]*y_size[j]\n",
    "        print(f'Bin {i} - {Sum}/{bins[i]}')\n",
    "        if Sum > bins[i]:\n",
    "            print(f'Error')\n",
    "            return False\n",
    "    print('Passed test 2')\n",
    "    return True"
   ]
  },
  {
   "cell_type": "markdown",
   "metadata": {},
   "source": [
    "Summing value and size of current result"
   ]
  },
  {
   "cell_type": "code",
   "execution_count": 118,
   "metadata": {},
   "outputs": [],
   "source": [
    "def Sum_value(x):\n",
    "    Sum_values = 0\n",
    "    Sum_size = 0\n",
    "    for i in range(len(bins)):\n",
    "        for j in range(len(y_values)):\n",
    "            Sum_values += x[i,j]*y_values[j]\n",
    "            Sum_size += x[i,j]*y_size[j]\n",
    "    return Sum_values, Sum_size"
   ]
  },
  {
   "cell_type": "markdown",
   "metadata": {},
   "source": [
    "Generating first random solution"
   ]
  },
  {
   "cell_type": "code",
   "execution_count": 119,
   "metadata": {},
   "outputs": [],
   "source": [
    "%%capture\n",
    "flag = False\n",
    "while flag == False:\n",
    "    x_rand = np.array([[0 for _ in range(len(y_size))] for _ in range(len(bins)) ])\n",
    "    for _ in range(10):\n",
    "        x_rand[np.random.randint(0,len(bins)),np.random.randint(0,len(y_size))] += np.random.randint(0,2)\n",
    "    flag = chceck_constr(x_rand)\n",
    "value_rand, size_rand= Sum_value(x_rand)\n",
    "print(flag,value_rand,x_rand)"
   ]
  },
  {
   "cell_type": "markdown",
   "metadata": {},
   "source": [
    "Searching\n",
    "1. Generate random point\n",
    "2. If this point is in use than switch it to 0. If not - switch to 1\n",
    "3. Check constrains\n",
    "4. If test are passed append array to dict and return new solution. Else, return original solution"
   ]
  },
  {
   "cell_type": "code",
   "execution_count": 120,
   "metadata": {},
   "outputs": [],
   "source": [
    "def tabu_search(x,i):\n",
    "    global Tabu\n",
    "    global tabu_plot_value\n",
    "    global tabu_plot_size\n",
    "    x_new = x.copy()\n",
    "    point = [np.random.randint(0,len(bins)),np.random.randint(0,len(y_size))]\n",
    "    if x_new[point[0],point[1]] == 1:\n",
    "        x_new[point[0],point[1]] = 0\n",
    "    else:\n",
    "        x_new[point[0],point[1]] = 1\n",
    "    if chceck_constr(x_new) == False:\n",
    "        value,size = Sum_value(x)\n",
    "        tabu_plot_value[i] = value\n",
    "        tabu_plot_size[i] = size\n",
    "        return x\n",
    "    else:\n",
    "        value,size = Sum_value(x_new)\n",
    "        tabu_plot_value[i] = value\n",
    "        tabu_plot_size[i] = size\n",
    "        Tabu[value] = x_new\n",
    "        return x_new"
   ]
  },
  {
   "cell_type": "code",
   "execution_count": 121,
   "metadata": {},
   "outputs": [],
   "source": [
    "%%capture\n",
    "Tabu = {}\n",
    "iterations = 10000\n",
    "tabu_plot_value = [0 for _ in range(iterations)]\n",
    "tabu_plot_size = [0 for _ in range(iterations)]\n",
    "x = x_rand.copy()\n",
    "for i in range(iterations):\n",
    "    x = tabu_search(x,i)\n",
    "value_max,size_max = Sum_value(Tabu[max(list(Tabu.keys()))])"
   ]
  },
  {
   "cell_type": "code",
   "execution_count": 122,
   "metadata": {},
   "outputs": [
    {
     "name": "stdout",
     "output_type": "stream",
     "text": [
      "Sum 0 - 21 | Size 0 - 73\n",
      "Sum N - 102 | Size N - 280\n",
      "[[0 0 0 0 0 0 1 0 0 0 0 0 0 0 0 0 0 0 0 0 0 0 0 0 0 0 0 0 0 0 0 0 0 0 0 0\n",
      "  0 0 0 0 0 0 0 0 0 0 0 0 0 0 0 0 0 0 0 0 0 0 0 0 0 0 0 0 0 0 0 0 0 1 0 0\n",
      "  0 0 0 0 0 0 0 0 0 0 0 0 0 0 0 0 0 0 0 0 0 0 0 0 0 0 0 0]\n",
      " [0 0 0 0 0 0 0 0 0 0 0 0 0 0 0 0 0 0 0 0 0 0 0 0 0 0 0 0 0 0 0 0 0 0 0 0\n",
      "  0 0 0 0 0 0 0 0 0 0 0 0 0 0 0 0 0 0 0 0 0 1 0 0 0 0 0 0 0 0 0 0 0 0 0 0\n",
      "  0 0 0 0 0 0 0 0 0 0 0 0 0 0 0 0 0 0 0 0 0 0 0 0 0 0 0 0]\n",
      " [0 0 0 0 0 0 0 0 0 0 0 0 0 0 0 0 0 0 0 0 0 0 0 0 0 0 0 0 0 0 0 0 0 0 0 0\n",
      "  0 0 0 0 0 0 0 0 0 0 0 0 0 1 0 0 0 0 0 0 0 0 0 0 0 0 0 0 0 0 0 0 0 0 0 0\n",
      "  0 0 0 0 0 0 0 0 0 0 0 0 0 0 0 0 0 0 0 0 0 0 0 0 0 0 0 0]\n",
      " [0 0 0 0 0 0 0 0 0 0 0 0 0 0 0 0 0 0 0 0 0 0 0 1 1 0 0 0 0 0 0 0 0 0 0 0\n",
      "  0 0 0 0 0 0 0 0 0 0 0 0 0 0 0 0 0 0 0 0 0 0 0 0 0 0 0 0 0 0 0 0 0 0 0 0\n",
      "  0 0 0 0 0 0 0 0 0 0 0 0 0 0 0 0 0 0 0 0 0 0 0 0 1 0 0 0]]\n",
      "Passed test 1\n",
      "Test 2\n",
      "Bin 0 - 84/100\n",
      "Bin 1 - 40/50\n",
      "Bin 2 - 39/40\n",
      "Bin 3 - 117/120\n",
      "Passed test 2\n"
     ]
    },
    {
     "data": {
      "text/plain": [
       "True"
      ]
     },
     "execution_count": 122,
     "metadata": {},
     "output_type": "execute_result"
    }
   ],
   "source": [
    "print(f'Sum 0 - {value_rand} | Size 0 - {size_rand}\\nSum N - {value_max} | Size N - {size_max}\\n{Tabu[max(list(Tabu.keys()))]}')\n",
    "chceck_constr(Tabu[max(list(Tabu.keys()))])"
   ]
  },
  {
   "cell_type": "markdown",
   "metadata": {},
   "source": [
    "<h3>Making plots</h3>"
   ]
  },
  {
   "cell_type": "code",
   "execution_count": 123,
   "metadata": {},
   "outputs": [],
   "source": [
    "for i in range(len(tabu_plot_value)):\n",
    "    if tabu_plot_value[i] == value_max and tabu_plot_size[i] == size_max:\n",
    "        point = i"
   ]
  },
  {
   "cell_type": "code",
   "execution_count": 124,
   "metadata": {},
   "outputs": [
    {
     "data": {
      "image/png": "[encoded data removed]",
      "text/plain": [
       "<Figure size 1440x432 with 1 Axes>"
      ]
     },
     "metadata": {},
     "output_type": "display_data"
    }
   ],
   "source": [
    "plt.figure(figsize=(20,6))\n",
    "plt.style.use('seaborn')\n",
    "plt.plot(tabu_plot_value,label = 'Value')\n",
    "plt.plot(tabu_plot_size,label = 'Size')\n",
    "plt.vlines(x=point,ymin=0,ymax=300,linewidth=2,color='r',ls='--',label='Result')\n",
    "plt.title('Tabu search')\n",
    "plt.xlabel('Iteration')\n",
    "plt.ylabel('Value')\n",
    "plt.legend()\n",
    "plt.grid(which='both', alpha=1)\n",
    "plt.show()"
   ]
  },
  {
   "cell_type": "code",
   "execution_count": 125,
   "metadata": {},
   "outputs": [
    {
     "data": {
      "image/png": "[encoded data removed]",
      "text/plain": [
       "<Figure size 576x576 with 1 Axes>"
      ]
     },
     "metadata": {},
     "output_type": "display_data"
    }
   ],
   "source": [
    "labels = np.array(['Gurobi','Tabu search'])\n",
    "x = np.arange(len(labels))\n",
    "res_value = [sum_value,value_max]\n",
    "res_size = [sum_size,size_max]\n",
    "width=0.2\n",
    "plt.figure(figsize=(8,8))\n",
    "plt.style.use('seaborn')\n",
    "plt.bar(x+width/2,res_value,width,label=\"Value\")\n",
    "plt.bar(x-width/2,res_size,width,label=\"Size\")\n",
    "plt.xticks(x,labels=labels)\n",
    "plt.legend()\n",
    "plt.grid(which='both', alpha=1)\n",
    "plt.show()"
   ]
  },
  {
   "cell_type": "code",
   "execution_count": null,
   "metadata": {},
   "outputs": [],
   "source": []
  }
 ],
 "metadata": {
  "interpreter": {
   "hash": "5b173c1de4ba5aaae6f9efd705f2ac1dc2d13ba329406e61b65965767d7fb689"
  },
  "kernelspec": {
   "display_name": "Python 3.10.0 64-bit",
   "language": "python",
   "name": "python3"
  },
  "language_info": {
   "codemirror_mode": {
    "name": "ipython",
    "version": 3
   },
   "file_extension": ".py",
   "mimetype": "text/x-python",
   "name": "python",
   "nbconvert_exporter": "python",
   "pygments_lexer": "ipython3",
   "version": "3.10.0"
  },
  "orig_nbformat": 4
 },
 "nbformat": 4,
 "nbformat_minor": 2
}
