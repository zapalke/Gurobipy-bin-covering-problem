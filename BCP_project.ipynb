{
 "cells": [
  {
   "cell_type": "markdown",
   "metadata": {},
   "source": [
    "<h3>Bin covering problem</h3>\n",
    "The goal is to fill multiple bins with items of the highest value so as not to exceed the size of the bin."
   ]
  },
  {
   "cell_type": "code",
   "execution_count": 127,
   "metadata": {},
   "outputs": [],
   "source": [
    "from gurobipy import *\n",
    "import numpy as np\n",
    "import matplotlib.pyplot as plt"
   ]
  },
  {
   "cell_type": "markdown",
   "metadata": {},
   "source": [
    "Setting parameters"
   ]
  },
  {
   "cell_type": "code",
   "execution_count": 128,
   "metadata": {},
   "outputs": [
    {
     "name": "stdout",
     "output_type": "stream",
     "text": [
      "Summed size: 6660\n",
      "Summed value: 1134\n"
     ]
    }
   ],
   "source": [
    "Items_size = {}\n",
    "Items_value = {}\n",
    "bins = [100,50,40,120]\n",
    "n = 100\n",
    "for i in range(n):\n",
    "    item = f'P{i}'\n",
    "    Items_size[item] = np.random.randint(30,100)\n",
    "    Items_value[item] = np.random.randint(2,20)\n",
    "print(f'Summed size: {np.sum(list(Items_size.values()))}')\n",
    "print(f'Summed value: {np.sum(list(Items_value.values()))}')"
   ]
  },
  {
   "cell_type": "code",
   "execution_count": 129,
   "metadata": {},
   "outputs": [],
   "source": [
    "m = Model('BCP')"
   ]
  },
  {
   "cell_type": "markdown",
   "metadata": {},
   "source": [
    "Adding a decision variable and defining temporary parameters (for better visibility)"
   ]
  },
  {
   "cell_type": "code",
   "execution_count": 130,
   "metadata": {},
   "outputs": [],
   "source": [
    "x = m.addMVar((len(bins),len(Items_size.keys())), vtype=GRB.BINARY,name='items')\n",
    "y_values = np.array(list(Items_value.values()))\n",
    "y_size = np.array(list(Items_size.values()))"
   ]
  },
  {
   "cell_type": "markdown",
   "metadata": {},
   "source": [
    "Setting objective.<br>\n",
    "The objective is maximising value of items used."
   ]
  },
  {
   "cell_type": "code",
   "execution_count": 131,
   "metadata": {},
   "outputs": [],
   "source": [
    "m.setObjective(sum(x[i,:]@y_values for i in range(len(bins))),GRB.MAXIMIZE)"
   ]
  },
  {
   "cell_type": "markdown",
   "metadata": {},
   "source": [
    "Setting constraints. <br>\n",
    "First constraints limits use of items due to the volume of bin. <br>\n",
    "Second one forbids to use one item more then once."
   ]
  },
  {
   "cell_type": "code",
   "execution_count": 132,
   "metadata": {},
   "outputs": [],
   "source": [
    "%%capture\n",
    "m.addConstrs((x[i,:]@y_size) <= np.array(bins[i]) for i in range(len(bins)))\n",
    "m.addConstrs((sum(x[:,i]) <= 1 for i in range(n)))"
   ]
  },
  {
   "cell_type": "code",
   "execution_count": 133,
   "metadata": {},
   "outputs": [
    {
     "name": "stdout",
     "output_type": "stream",
     "text": [
      "Gurobi Optimizer version 9.5.1 build v9.5.1rc2 (win64)\n",
      "Thread count: 4 physical cores, 8 logical processors, using up to 8 threads\n",
      "Optimize a model with 104 rows, 400 columns and 800 nonzeros\n",
      "Model fingerprint: 0x958ff9dc\n",
      "Variable types: 0 continuous, 400 integer (400 binary)\n",
      "Coefficient statistics:\n",
      "  Matrix range     [1e+00, 1e+02]\n",
      "  Objective range  [2e+00, 2e+01]\n",
      "  Bounds range     [1e+00, 1e+00]\n",
      "  RHS range        [1e+00, 1e+02]\n",
      "Found heuristic solution: objective 56.0000000\n",
      "Presolve removed 0 rows and 167 columns\n",
      "Presolve time: 0.00s\n",
      "Presolved: 104 rows, 233 columns, 466 nonzeros\n",
      "Variable types: 0 continuous, 233 integer (233 binary)\n",
      "Found heuristic solution: objective 94.0000000\n",
      "\n",
      "Root relaxation: objective 1.371364e+02, 13 iterations, 0.00 seconds (0.00 work units)\n",
      "\n",
      "    Nodes    |    Current Node    |     Objective Bounds      |     Work\n",
      " Expl Unexpl |  Obj  Depth IntInf | Incumbent    BestBd   Gap | It/Node Time\n",
      "\n",
      "     0     0  137.13636    0    5   94.00000  137.13636  45.9%     -    0s\n",
      "H    0     0                     131.0000000  137.13636  4.68%     -    0s\n",
      "H    0     0                     133.0000000  137.13636  3.11%     -    0s\n",
      "H    0     0                     134.0000000  137.13636  2.34%     -    0s\n",
      "     0     0  136.76923    0    9  134.00000  136.76923  2.07%     -    0s\n",
      "     0     0  136.76923    0    3  134.00000  136.76923  2.07%     -    0s\n",
      "     0     0  136.35897    0    1  134.00000  136.35897  1.76%     -    0s\n",
      "     0     0  135.95690    0    9  134.00000  135.95690  1.46%     -    0s\n",
      "     0     0  135.95690    0   10  134.00000  135.95690  1.46%     -    0s\n",
      "     0     0  135.66667    0   10  134.00000  135.66667  1.24%     -    0s\n",
      "H    0     0                     135.0000000  135.66667  0.49%     -    0s\n",
      "     0     0  135.66667    0   10  135.00000  135.66667  0.49%     -    0s\n",
      "\n",
      "Cutting planes:\n",
      "  Gomory: 1\n",
      "  Cover: 1\n",
      "  StrongCG: 1\n",
      "  RLT: 1\n",
      "\n",
      "Explored 1 nodes (39 simplex iterations) in 0.08 seconds (0.00 work units)\n",
      "Thread count was 8 (of 8 available processors)\n",
      "\n",
      "Solution count 9: 135 134 133 ... 56\n",
      "\n",
      "Optimal solution found (tolerance 1.00e-04)\n",
      "Best objective 1.350000000000e+02, best bound 1.350000000000e+02, gap 0.0000%\n"
     ]
    }
   ],
   "source": [
    "m.optimize()"
   ]
  },
  {
   "cell_type": "code",
   "execution_count": 134,
   "metadata": {},
   "outputs": [
    {
     "data": {
      "text/plain": [
       "array([[ 0.,  0.,  0.,  0.,  0.,  0.,  0.,  0.,  0.,  0.,  0.,  0.,  0.,\n",
       "         0.,  0.,  0.,  0.,  0.,  0.,  0.,  0.,  0.,  0., -0., -0.,  0.,\n",
       "         0.,  0.,  0.,  0., -0.,  0.,  0.,  0.,  0.,  0.,  0.,  0.,  0.,\n",
       "         0.,  0.,  0.,  0.,  0.,  0.,  0.,  0.,  0.,  0.,  0.,  0.,  0.,\n",
       "         0.,  0.,  0.,  1.,  0.,  0.,  0.,  0.,  0.,  0.,  0.,  0.,  0.,\n",
       "         0.,  0.,  0., -0.,  0.,  0.,  1.,  0.,  1.,  0.,  0.,  0.,  0.,\n",
       "        -0.,  0.,  0.,  0.,  0.,  0., -0.,  0.,  0.,  0.,  0.,  0., -0.,\n",
       "         0.,  0.,  0.,  0.,  0.,  0.,  0.,  0.,  0.],\n",
       "       [ 0.,  0.,  0.,  0.,  0.,  0.,  0.,  0.,  0.,  0.,  0.,  0.,  0.,\n",
       "         0.,  0.,  0.,  0.,  0.,  0.,  0.,  0.,  0.,  0.,  1.,  0.,  0.,\n",
       "         0.,  0.,  0.,  0., -0.,  0.,  0.,  0.,  0.,  0.,  0.,  0.,  0.,\n",
       "         0.,  0.,  0.,  0.,  0.,  0.,  0.,  0.,  0.,  0.,  0.,  0.,  0.,\n",
       "         0.,  0.,  0.,  0.,  0.,  0.,  0.,  0.,  0.,  0.,  0.,  0.,  0.,\n",
       "         0.,  0.,  0., -0.,  0.,  0.,  0.,  0.,  0.,  0.,  0.,  0.,  0.,\n",
       "         0.,  0.,  0.,  0.,  0.,  0.,  0.,  0.,  0.,  0.,  0.,  0., -0.,\n",
       "         0.,  0.,  0.,  0.,  0.,  0.,  0.,  0.,  0.],\n",
       "       [ 0.,  0.,  0.,  0.,  0.,  0.,  0.,  0.,  0.,  0.,  0.,  0.,  0.,\n",
       "         0.,  0.,  0.,  0.,  0.,  0.,  0.,  0.,  0.,  0.,  0.,  1.,  0.,\n",
       "         0.,  0.,  0.,  0.,  0.,  0.,  0.,  0.,  0.,  0.,  0.,  0.,  0.,\n",
       "         0.,  0.,  0.,  0.,  0.,  0.,  0.,  0.,  0.,  0.,  0.,  0.,  0.,\n",
       "         0.,  0.,  0., -0.,  0.,  0.,  0.,  0.,  0.,  0.,  0.,  0.,  0.,\n",
       "         0.,  0.,  0.,  0.,  0.,  0.,  0.,  0., -0.,  0.,  0.,  0.,  0.,\n",
       "         0.,  0.,  0.,  0.,  0.,  0.,  0.,  0.,  0.,  0.,  0.,  0.,  0.,\n",
       "         0.,  0.,  0.,  0.,  0.,  0.,  0.,  0.,  0.],\n",
       "       [ 0.,  0.,  0.,  0.,  0.,  0.,  0.,  0.,  0.,  0.,  0.,  0.,  0.,\n",
       "         0.,  0.,  0.,  0.,  0.,  0.,  0.,  0.,  0.,  0., -0., -0.,  0.,\n",
       "         0.,  0.,  0.,  0.,  0.,  0.,  0.,  0.,  0.,  0.,  0.,  0.,  0.,\n",
       "         0.,  0.,  0.,  0.,  0.,  0.,  0.,  0.,  0.,  0.,  0.,  0.,  0.,\n",
       "         0.,  0.,  0., -0.,  0.,  0.,  0.,  0.,  0.,  0.,  0.,  0.,  0.,\n",
       "         0.,  0.,  0.,  1.,  0.,  0.,  0.,  0., -0.,  0.,  0.,  0.,  0.,\n",
       "        -0.,  0.,  0.,  0.,  0.,  0.,  1.,  0.,  0.,  0.,  0.,  0.,  1.,\n",
       "         0.,  0.,  0.,  0.,  0.,  0.,  0.,  0.,  0.]])"
      ]
     },
     "execution_count": 134,
     "metadata": {},
     "output_type": "execute_result"
    }
   ],
   "source": [
    "x.X"
   ]
  },
  {
   "cell_type": "markdown",
   "metadata": {},
   "source": [
    "Printing solution"
   ]
  },
  {
   "cell_type": "code",
   "execution_count": 135,
   "metadata": {},
   "outputs": [
    {
     "name": "stdout",
     "output_type": "stream",
     "text": [
      "Bin 0 - Value: 48 - Size: 100/100\n",
      "['P55', 'P71', 'P73']\n",
      "Bin 1 - Value: 19 - Size: 44/50\n",
      "['P23']\n",
      "Bin 2 - Value: 18 - Size: 37/40\n",
      "['P24']\n",
      "Bin 3 - Value: 50 - Size: 120/120\n",
      "['P68', 'P84', 'P90']\n",
      "---SUMMARY---\n",
      "Summed value : 135\n",
      "Summed size: 301\n",
      "Used items:\n",
      "['P23', 'P24', 'P55', 'P68', 'P71', 'P73', 'P84', 'P90']\n"
     ]
    }
   ],
   "source": [
    "sum_value = 0\n",
    "sum_size = 0\n",
    "sum_ans = []\n",
    "for i in range(len(bins)):\n",
    "    temp_size = 0\n",
    "    temp_value = 0\n",
    "    ans = []\n",
    "    for j in range(n):\n",
    "        if x[i,j].X > 0:\n",
    "            ans.append(list(Items_size.keys())[j])\n",
    "    for l in ans:\n",
    "        temp_size += Items_size[l]\n",
    "        temp_value += Items_value[l]\n",
    "    sum_size += temp_size\n",
    "    sum_value += temp_value\n",
    "    sum_ans += ans\n",
    "    print(f'Bin {i} - Value: {temp_value} - Size: {temp_size}/{bins[i]}')\n",
    "    print(ans)\n",
    "                \n",
    "print('---SUMMARY---')\n",
    "print(f'Summed value : {sum_value}\\nSummed size: {sum_size}')\n",
    "print(f'Used items:\\n{sorted(sum_ans)}')"
   ]
  },
  {
   "cell_type": "markdown",
   "metadata": {},
   "source": [
    "<h3>Tabu search</h3>"
   ]
  },
  {
   "cell_type": "code",
   "execution_count": 136,
   "metadata": {},
   "outputs": [],
   "source": [
    "def chceck_constr(x):\n",
    "    if multi_items_constr(x) == False:\n",
    "        return False\n",
    "    if sum_constr(x) == False:\n",
    "        return False\n",
    "    return True"
   ]
  },
  {
   "cell_type": "markdown",
   "metadata": {},
   "source": [
    "Checking if we use one item multiple times."
   ]
  },
  {
   "cell_type": "code",
   "execution_count": 137,
   "metadata": {},
   "outputs": [],
   "source": [
    "def multi_items_constr(x):\n",
    "    for i in range(len(y_size)):\n",
    "        if sum(x[:,i]) > 1:\n",
    "            print(f'One item is used multiple times.\\n{x[:,i]} - column {i}')\n",
    "            return False\n",
    "    print('Passed test 1')\n",
    "    return True"
   ]
  },
  {
   "cell_type": "markdown",
   "metadata": {},
   "source": [
    "Checking if sum is larger than bin size."
   ]
  },
  {
   "cell_type": "code",
   "execution_count": 138,
   "metadata": {},
   "outputs": [],
   "source": [
    "def sum_constr(x):\n",
    "    print('Test 2')\n",
    "    for i in range(len(bins)):\n",
    "        Sum = 0\n",
    "        for j in range(len(y_size)):\n",
    "            Sum += x[i,j]*y_size[j]\n",
    "        print(f'Bin {i} - {Sum}/{bins[i]}')\n",
    "        if Sum > bins[i]:\n",
    "            print(f'Error')\n",
    "            return False\n",
    "    print('Passed test 2')\n",
    "    return True"
   ]
  },
  {
   "cell_type": "markdown",
   "metadata": {},
   "source": [
    "Summing value and size of current result"
   ]
  },
  {
   "cell_type": "code",
   "execution_count": 139,
   "metadata": {},
   "outputs": [],
   "source": [
    "def Sum_value(x):\n",
    "    Sum_values = 0\n",
    "    Sum_size = 0\n",
    "    for i in range(len(bins)):\n",
    "        for j in range(len(y_values)):\n",
    "            Sum_values += x[i,j]*y_values[j]\n",
    "            Sum_size += x[i,j]*y_size[j]\n",
    "    return Sum_values, Sum_size"
   ]
  },
  {
   "cell_type": "markdown",
   "metadata": {},
   "source": [
    "Generating first random solution"
   ]
  },
  {
   "cell_type": "code",
   "execution_count": 140,
   "metadata": {},
   "outputs": [],
   "source": [
    "%%capture\n",
    "flag = False\n",
    "while flag == False:\n",
    "    x_rand = np.array([[0 for _ in range(len(y_size))] for _ in range(len(bins)) ])\n",
    "    for _ in range(10):\n",
    "        x_rand[np.random.randint(0,len(bins)),np.random.randint(0,len(y_size))] += np.random.randint(0,2)\n",
    "    flag = chceck_constr(x_rand)\n",
    "value_rand, size_rand= Sum_value(x_rand)\n",
    "print(flag,value_rand,x_rand)"
   ]
  },
  {
   "cell_type": "markdown",
   "metadata": {},
   "source": [
    "Searching\n",
    "1. Generate random point\n",
    "2. If this point is in use than switch it to 0. If not - switch to 1\n",
    "3. Check constrains\n",
    "4. If test are passed append array to dict and return new solution. Else, return original solution"
   ]
  },
  {
   "cell_type": "code",
   "execution_count": 141,
   "metadata": {},
   "outputs": [],
   "source": [
    "def tabu_search(x,i):\n",
    "    global Tabu\n",
    "    global tabu_plot_value\n",
    "    global tabu_plot_size\n",
    "    x_new = x.copy()\n",
    "    point = [np.random.randint(0,len(bins)),np.random.randint(0,len(y_size))]\n",
    "    if x_new[point[0],point[1]] == 1:\n",
    "        x_new[point[0],point[1]] = 0\n",
    "    else:\n",
    "        x_new[point[0],point[1]] = 1\n",
    "    if chceck_constr(x_new) == False:\n",
    "        value,size = Sum_value(x)\n",
    "        tabu_plot_value[i] = value\n",
    "        tabu_plot_size[i] = size\n",
    "        return x\n",
    "    else:\n",
    "        value,size = Sum_value(x_new)\n",
    "        tabu_plot_value[i] = value\n",
    "        tabu_plot_size[i] = size\n",
    "        Tabu[value] = x_new\n",
    "        return x_new"
   ]
  },
  {
   "cell_type": "code",
   "execution_count": 142,
   "metadata": {},
   "outputs": [],
   "source": [
    "%%capture\n",
    "Tabu = {}\n",
    "iterations = 10000\n",
    "tabu_plot_value = [0 for _ in range(iterations)]\n",
    "tabu_plot_size = [0 for _ in range(iterations)]\n",
    "x = x_rand.copy()\n",
    "for i in range(iterations):\n",
    "    x = tabu_search(x,i)\n",
    "value_max,size_max = Sum_value(Tabu[max(list(Tabu.keys()))])"
   ]
  },
  {
   "cell_type": "code",
   "execution_count": 143,
   "metadata": {},
   "outputs": [
    {
     "name": "stdout",
     "output_type": "stream",
     "text": [
      "Sum 0 - 12 | Size 0 - 52\n",
      "Sum N - 103 | Size N - 283\n",
      "[[0 0 1 0 0 0 0 0 0 0 0 0 0 0 0 0 0 0 0 0 0 0 0 0 0 0 0 0 0 0 0 0 0 0 0 0\n",
      "  0 0 0 0 0 0 0 0 0 0 0 0 0 0 0 0 0 0 0 0 0 0 0 0 0 0 0 0 0 0 0 0 1 0 0 0\n",
      "  0 0 0 0 0 0 0 0 0 0 0 0 0 0 0 0 0 0 0 0 0 0 0 0 0 0 0 0]\n",
      " [0 0 0 0 0 0 0 0 0 0 0 0 0 0 0 0 0 0 0 0 0 0 0 0 0 0 0 0 0 0 0 0 0 0 0 0\n",
      "  0 0 0 0 0 0 0 0 0 0 0 0 0 0 0 0 0 0 0 1 0 0 0 0 0 0 0 0 0 0 0 0 0 0 0 0\n",
      "  0 0 0 0 0 0 0 0 0 0 0 0 0 0 0 0 0 0 0 0 0 0 0 0 0 0 0 0]\n",
      " [0 0 0 0 0 0 0 0 0 0 0 0 0 0 0 0 0 0 0 0 0 0 0 0 0 0 0 0 0 0 0 0 0 0 0 0\n",
      "  0 0 0 0 0 0 0 0 0 0 0 0 0 0 0 0 0 0 0 0 0 0 0 0 0 0 0 0 0 0 1 0 0 0 0 0\n",
      "  0 0 0 0 0 0 0 0 0 0 0 0 0 0 0 0 0 0 0 0 0 0 0 0 0 0 0 0]\n",
      " [0 0 0 0 0 0 0 0 0 0 0 0 0 0 0 0 0 0 0 0 0 0 0 0 0 0 0 0 0 0 0 0 0 0 0 0\n",
      "  0 0 0 0 0 0 0 0 0 0 0 0 0 0 0 0 0 0 0 0 0 0 0 0 0 0 0 0 0 0 0 0 0 0 0 1\n",
      "  0 0 0 0 0 0 0 0 1 0 0 0 0 0 0 0 0 1 0 0 0 0 0 0 0 0 0 0]]\n",
      "Passed test 1\n",
      "Test 2\n",
      "Bin 0 - 94/100\n",
      "Bin 1 - 34/50\n",
      "Bin 2 - 38/40\n",
      "Bin 3 - 117/120\n",
      "Passed test 2\n"
     ]
    },
    {
     "data": {
      "text/plain": [
       "True"
      ]
     },
     "execution_count": 143,
     "metadata": {},
     "output_type": "execute_result"
    }
   ],
   "source": [
    "print(f'Sum 0 - {value_rand} | Size 0 - {size_rand}\\nSum N - {value_max} | Size N - {size_max}\\n{Tabu[max(list(Tabu.keys()))]}')\n",
    "chceck_constr(Tabu[max(list(Tabu.keys()))])"
   ]
  },
  {
   "cell_type": "markdown",
   "metadata": {},
   "source": [
    "<h3>Making plots</h3>"
   ]
  },
  {
   "cell_type": "code",
   "execution_count": 144,
   "metadata": {},
   "outputs": [],
   "source": [
    "for i in range(len(tabu_plot_value)):\n",
    "    if tabu_plot_value[i] == value_max and tabu_plot_size[i] == size_max:\n",
    "        point = i"
   ]
  },
  {
   "cell_type": "code",
   "execution_count": 145,
   "metadata": {},
   "outputs": [
    {
     "data": {
      "image/png": "[encoded data removed]",
      "text/plain": [
       "<Figure size 1440x432 with 1 Axes>"
      ]
     },
     "metadata": {},
     "output_type": "display_data"
    }
   ],
   "source": [
    "plt.figure(figsize=(20,6))\n",
    "plt.style.use('seaborn')\n",
    "plt.plot(tabu_plot_value,label = 'Value')\n",
    "plt.plot(tabu_plot_size,label = 'Size')\n",
    "plt.vlines(x=point,ymin=0,ymax=300,linewidth=2,color='r',ls='--',label='Result')\n",
    "plt.title('Tabu search')\n",
    "plt.xlabel('Iteration')\n",
    "plt.ylabel('Value')\n",
    "plt.legend()\n",
    "plt.grid(which='both', alpha=1)\n",
    "plt.show()"
   ]
  },
  {
   "cell_type": "code",
   "execution_count": 146,
   "metadata": {},
   "outputs": [
    {
     "data": {
      "image/png": "[encoded data removed]",
      "text/plain": [
       "<Figure size 576x576 with 1 Axes>"
      ]
     },
     "metadata": {},
     "output_type": "display_data"
    }
   ],
   "source": [
    "labels = np.array(['Gurobi','Tabu search'])\n",
    "x = np.arange(len(labels))\n",
    "res_value = [sum_value,value_max]\n",
    "res_size = [sum_size,size_max]\n",
    "width=0.2\n",
    "plt.figure(figsize=(8,8))\n",
    "plt.style.use('seaborn')\n",
    "plt.bar(x+width/2,res_value,width,label=\"Value\")\n",
    "plt.bar(x-width/2,res_size,width,label=\"Size\")\n",
    "plt.xticks(x,labels=labels)\n",
    "plt.legend()\n",
    "plt.grid(which='both', alpha=1)\n",
    "plt.show()"
   ]
  },
  {
   "cell_type": "code",
   "execution_count": null,
   "metadata": {},
   "outputs": [],
   "source": []
  }
 ],
 "metadata": {
  "interpreter": {
   "hash": "5b173c1de4ba5aaae6f9efd705f2ac1dc2d13ba329406e61b65965767d7fb689"
  },
  "kernelspec": {
   "display_name": "Python 3.10.0 64-bit",
   "language": "python",
   "name": "python3"
  },
  "language_info": {
   "codemirror_mode": {
    "name": "ipython",
    "version": 3
   },
   "file_extension": ".py",
   "mimetype": "text/x-python",
   "name": "python",
   "nbconvert_exporter": "python",
   "pygments_lexer": "ipython3",
   "version": "3.10.0"
  },
  "orig_nbformat": 4
 },
 "nbformat": 4,
 "nbformat_minor": 2
}
